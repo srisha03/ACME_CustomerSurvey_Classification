{
 "cells": [
  {
   "cell_type": "markdown",
   "metadata": {},
   "source": [
    "### Goal"
   ]
  },
  {
   "cell_type": "markdown",
   "metadata": {},
   "source": [
    "#### Given the ACME customer survey data, our goal is to classify if a customer is happy or not based on the given answers."
   ]
  },
  {
   "cell_type": "code",
   "execution_count": 24,
   "metadata": {},
   "outputs": [],
   "source": [
    "import pandas as pd\n",
    "import numpy as np\n",
    "import seaborn as sns\n",
    "import matplotlib.pyplot as plt\n",
    "from sklearn.pipeline import Pipeline\n",
    "from sklearn.model_selection import RepeatedStratifiedKFold\n",
    "from feature_engine.variable_transformers import LogTransformer\n",
    "from sklearn.preprocessing import StandardScaler, RobustScaler\n",
    "from sklearn.metrics import f1_score\n",
    "from sklearn import metrics"
   ]
  },
  {
   "cell_type": "code",
   "execution_count": 2,
   "metadata": {},
   "outputs": [],
   "source": [
    "data =  pd.read_csv(\"D:\\Apziva\\\\ACME-HappinessSurvey2020.csv\")"
   ]
  },
  {
   "cell_type": "markdown",
   "metadata": {},
   "source": [
    "### Exploring the data"
   ]
  },
  {
   "cell_type": "code",
   "execution_count": 3,
   "metadata": {},
   "outputs": [
    {
     "data": {
      "text/plain": [
       "(126, 7)"
      ]
     },
     "execution_count": 3,
     "metadata": {},
     "output_type": "execute_result"
    }
   ],
   "source": [
    "data.shape"
   ]
  },
  {
   "cell_type": "code",
   "execution_count": 4,
   "metadata": {},
   "outputs": [
    {
     "data": {
      "text/html": [
       "<div>\n",
       "<style scoped>\n",
       "    .dataframe tbody tr th:only-of-type {\n",
       "        vertical-align: middle;\n",
       "    }\n",
       "\n",
       "    .dataframe tbody tr th {\n",
       "        vertical-align: top;\n",
       "    }\n",
       "\n",
       "    .dataframe thead th {\n",
       "        text-align: right;\n",
       "    }\n",
       "</style>\n",
       "<table border=\"1\" class=\"dataframe\">\n",
       "  <thead>\n",
       "    <tr style=\"text-align: right;\">\n",
       "      <th></th>\n",
       "      <th>Y</th>\n",
       "      <th>X1</th>\n",
       "      <th>X2</th>\n",
       "      <th>X3</th>\n",
       "      <th>X4</th>\n",
       "      <th>X5</th>\n",
       "      <th>X6</th>\n",
       "    </tr>\n",
       "  </thead>\n",
       "  <tbody>\n",
       "    <tr>\n",
       "      <th>0</th>\n",
       "      <td>0</td>\n",
       "      <td>3</td>\n",
       "      <td>3</td>\n",
       "      <td>3</td>\n",
       "      <td>4</td>\n",
       "      <td>2</td>\n",
       "      <td>4</td>\n",
       "    </tr>\n",
       "    <tr>\n",
       "      <th>1</th>\n",
       "      <td>0</td>\n",
       "      <td>3</td>\n",
       "      <td>2</td>\n",
       "      <td>3</td>\n",
       "      <td>5</td>\n",
       "      <td>4</td>\n",
       "      <td>3</td>\n",
       "    </tr>\n",
       "    <tr>\n",
       "      <th>2</th>\n",
       "      <td>1</td>\n",
       "      <td>5</td>\n",
       "      <td>3</td>\n",
       "      <td>3</td>\n",
       "      <td>3</td>\n",
       "      <td>3</td>\n",
       "      <td>5</td>\n",
       "    </tr>\n",
       "    <tr>\n",
       "      <th>3</th>\n",
       "      <td>0</td>\n",
       "      <td>5</td>\n",
       "      <td>4</td>\n",
       "      <td>3</td>\n",
       "      <td>3</td>\n",
       "      <td>3</td>\n",
       "      <td>5</td>\n",
       "    </tr>\n",
       "    <tr>\n",
       "      <th>4</th>\n",
       "      <td>0</td>\n",
       "      <td>5</td>\n",
       "      <td>4</td>\n",
       "      <td>3</td>\n",
       "      <td>3</td>\n",
       "      <td>3</td>\n",
       "      <td>5</td>\n",
       "    </tr>\n",
       "  </tbody>\n",
       "</table>\n",
       "</div>"
      ],
      "text/plain": [
       "   Y  X1  X2  X3  X4  X5  X6\n",
       "0  0   3   3   3   4   2   4\n",
       "1  0   3   2   3   5   4   3\n",
       "2  1   5   3   3   3   3   5\n",
       "3  0   5   4   3   3   3   5\n",
       "4  0   5   4   3   3   3   5"
      ]
     },
     "execution_count": 4,
     "metadata": {},
     "output_type": "execute_result"
    }
   ],
   "source": [
    "data.head()"
   ]
  },
  {
   "cell_type": "code",
   "execution_count": 5,
   "metadata": {},
   "outputs": [
    {
     "data": {
      "text/plain": [
       "1    69\n",
       "0    57\n",
       "Name: Y, dtype: int64"
      ]
     },
     "execution_count": 5,
     "metadata": {},
     "output_type": "execute_result"
    }
   ],
   "source": [
    "# The target variable seems to be quite balanced\n",
    "data[\"Y\"].value_counts()"
   ]
  },
  {
   "cell_type": "code",
   "execution_count": 6,
   "metadata": {},
   "outputs": [
    {
     "data": {
      "text/plain": [
       "Y     0\n",
       "X1    0\n",
       "X2    0\n",
       "X3    0\n",
       "X4    0\n",
       "X5    0\n",
       "X6    0\n",
       "dtype: int64"
      ]
     },
     "execution_count": 6,
     "metadata": {},
     "output_type": "execute_result"
    }
   ],
   "source": [
    "# Looking for missing values - We don't seem to have any\n",
    "data.isnull().sum()"
   ]
  },
  {
   "cell_type": "code",
   "execution_count": 7,
   "metadata": {},
   "outputs": [
    {
     "name": "stdout",
     "output_type": "stream",
     "text": [
      "Y [0 1]\n",
      "X1 [3 5 4 1]\n",
      "X2 [3 2 4 5 1]\n",
      "X3 [3 2 4 5 1]\n",
      "X4 [4 5 3 2 1]\n",
      "X5 [2 4 3 5 1]\n",
      "X6 [4 3 5 2 1]\n"
     ]
    }
   ],
   "source": [
    "# Inspecting the variable values\n",
    "for var in data.columns:\n",
    "    print(var, data[var].unique()[0:20])"
   ]
  },
  {
   "cell_type": "code",
   "execution_count": 8,
   "metadata": {},
   "outputs": [
    {
     "data": {
      "image/png": "[encoded data removed]",
      "text/plain": [
       "<Figure size 1440x360 with 7 Axes>"
      ]
     },
     "metadata": {
      "needs_background": "light"
     },
     "output_type": "display_data"
    }
   ],
   "source": [
    "# Exploring the distribution of the data via histograms\n",
    "fig, axes = plt.subplots(ncols=len(data.columns), figsize=(20,5))\n",
    "for col, ax in zip(data, axes):\n",
    "    data[col].value_counts().sort_index().plot.bar(ax=ax, title=col, color=['red', 'orange'])\n",
    "\n",
    "plt.tight_layout()    \n",
    "plt.show()"
   ]
  },
  {
   "cell_type": "code",
   "execution_count": 9,
   "metadata": {},
   "outputs": [],
   "source": [
    "# The distributions is not exactly normal so we would like to achieve a normal distribution"
   ]
  },
  {
   "cell_type": "code",
   "execution_count": 10,
   "metadata": {},
   "outputs": [],
   "source": [
    "# Splitting the data before training our models\n",
    "from sklearn.model_selection import train_test_split\n",
    "X_trainval, X_test, y_trainval, y_test = train_test_split(data.drop('Y',axis=1), data.Y , test_size=0.2, random_state=0)\n",
    "X_train, X_val, y_train, y_val = train_test_split(X_trainval, y_trainval, test_size=0.25, random_state=0)"
   ]
  },
  {
   "cell_type": "markdown",
   "metadata": {},
   "source": [
    "### Data preprocessing"
   ]
  },
  {
   "cell_type": "code",
   "execution_count": 11,
   "metadata": {},
   "outputs": [],
   "source": [
    "prep_pipe = Pipeline([\n",
    "    # Transforming the distribution of the data to look normal\n",
    "    ('lt', LogTransformer()),\n",
    "       \n",
    "    # Scaling the variables although we have 4 variables on the same scale except for one - Scaling via mean normalization\n",
    "    (\"standardscaler\" , StandardScaler(with_mean=True, with_std=False)),\n",
    "    (\"robustscaler\" , RobustScaler(with_centering=False, with_scaling=True, quantile_range=(0, 100))) \n",
    "    ])"
   ]
  },
  {
   "cell_type": "code",
   "execution_count": 12,
   "metadata": {},
   "outputs": [],
   "source": [
    "prep_pipe.fit(X_train, y_train)\n",
    "X_train=prep_pipe.transform(X_train)\n",
    "X_val=prep_pipe.transform(X_val)\n",
    "X_test=prep_pipe.transform(X_test)"
   ]
  },
  {
   "cell_type": "code",
   "execution_count": 13,
   "metadata": {},
   "outputs": [
    {
     "data": {
      "text/plain": [
       "make_scorer(fbeta_score, beta=1)"
      ]
     },
     "execution_count": 13,
     "metadata": {},
     "output_type": "execute_result"
    }
   ],
   "source": [
    "# creating a scorer for F1 score - The F1 score is a optimal metric choice for this kind of dataset wher\n",
    "# rather then focusing on just happy or unhappy customers F1 score helps determine the trade off between the two\n",
    "from sklearn.metrics import fbeta_score, make_scorer\n",
    "f1score = make_scorer(fbeta_score, beta=1)\n",
    "f1score"
   ]
  },
  {
   "cell_type": "markdown",
   "metadata": {},
   "source": [
    "### Model Training"
   ]
  },
  {
   "cell_type": "markdown",
   "metadata": {},
   "source": [
    "#### Logistic Regression - with L2 (Ridge) penalty"
   ]
  },
  {
   "cell_type": "code",
   "execution_count": 19,
   "metadata": {},
   "outputs": [
    {
     "name": "stdout",
     "output_type": "stream",
     "text": [
      "Best Parameters for Logistic Regression:  {'C': 0.2, 'dual': True, 'fit_intercept': True, 'penalty': 'l2', 'solver': 'liblinear', 'warm_start': True} \n",
      "\n",
      "Best Mean Cross-validation score: 0.7695571095571095 \n",
      "\n",
      "Logistic Test Performance:  0.7027027027027027\n",
      "Logistic Validation Performance:  0.5454545454545454\n"
     ]
    }
   ],
   "source": [
    "from sklearn.linear_model import LogisticRegression\n",
    "from sklearn.model_selection import cross_val_score\n",
    "from sklearn.model_selection import GridSearchCV\n",
    "\n",
    "logreg_l2 = LogisticRegression(max_iter=10000, random_state=42)\n",
    "\n",
    "logreg_param = {'penalty':['l2'],\n",
    "                'dual':[True],\n",
    "                'C':[0.01, 0.1, 0.2, 0.5], \n",
    "                'fit_intercept':[True,False],\n",
    "                'solver':['liblinear'],\n",
    "                'warm_start':[True,False]}\n",
    "\n",
    "logreg_l2_grid = GridSearchCV(logreg_l2, logreg_param, cv=10, return_train_score=True, scoring= f1score)\n",
    "logreg_l2_grid.fit(X_train,y_train)\n",
    "\n",
    "print('Best Parameters for Logistic Regression: ', logreg_l2_grid.best_params_, '\\n')\n",
    "\n",
    "# Mean Cross validation Score\n",
    "print(\"Best Mean Cross-validation score: {}\".format(logreg_l2_grid.best_score_), '\\n')\n",
    "\n",
    "# Check test data set performance\n",
    "print(\"Logistic Test Performance: \", logreg_l2_grid.score(X_test,y_test))\n",
    "print(\"Logistic Validation Performance: \", logreg_l2_grid.score(X_val,y_val))"
   ]
  },
  {
   "cell_type": "markdown",
   "metadata": {},
   "source": [
    "#### Logistic Regression - with L1 (Lasso) penalty"
   ]
  },
  {
   "cell_type": "code",
   "execution_count": 106,
   "metadata": {},
   "outputs": [
    {
     "name": "stdout",
     "output_type": "stream",
     "text": [
      "Best Parameters for Logistic Regression:  {'C': 0.1, 'dual': False, 'fit_intercept': True, 'penalty': 'l1', 'solver': 'saga', 'warm_start': True} \n",
      "\n",
      "Best Mean Cross-validation score: 0.7588578088578088 \n",
      "\n",
      "Logistic Test Performance:  0.6666666666666666\n",
      "Logistic Validation Performance:  0.5714285714285715\n"
     ]
    }
   ],
   "source": [
    "logreg_l1 = LogisticRegression(max_iter=10000, random_state=42)\n",
    "\n",
    "logreg_param = {'penalty':['l1'],\n",
    "                'dual':[False],\n",
    "                'C':[0.001, 0.01, 0.05, 0.1, 0.2, 0.5, 1], \n",
    "                'fit_intercept':[True,False],\n",
    "                'solver':['saga'],\n",
    "#                 'class_weight':[None,'balanced'],\n",
    "                'warm_start':[True,False]}\n",
    "\n",
    "\n",
    "logreg_l1_grid = GridSearchCV(logreg_l1, logreg_param, cv=10, return_train_score=True, scoring= f1score)\n",
    "logreg_l1_grid.fit(X_train,y_train)\n",
    "\n",
    "print('Best Parameters for Logistic Regression: ', logreg_l1_grid.best_params_, '\\n')\n",
    "\n",
    "# Mean Cross validation Score\n",
    "print(\"Best Mean Cross-validation score: {}\".format(logreg_l1_grid.best_score_), '\\n')\n",
    "\n",
    "# Check test data set performance\n",
    "print(\"Logistic Test Performance: \", logreg_l1_grid.score(X_test,y_test))\n",
    "print(\"Logistic Validation Performance: \", logreg_l1_grid.score(X_val,y_val))"
   ]
  },
  {
   "cell_type": "markdown",
   "metadata": {},
   "source": [
    "#### Logistic Regression - Elastic net"
   ]
  },
  {
   "cell_type": "code",
   "execution_count": 114,
   "metadata": {},
   "outputs": [
    {
     "name": "stdout",
     "output_type": "stream",
     "text": [
      "Best Parameters for Logistic Regression:  {'C': 0.001, 'class_weight': None, 'dual': False, 'fit_intercept': True, 'l1_ratio': 0.1, 'penalty': 'elasticnet', 'solver': 'saga', 'warm_start': True} \n",
      "\n",
      "Best Mean Cross-validation score: 0.7588578088578088 \n",
      "\n",
      "Logistic Test Performance:  0.6666666666666666\n",
      "Logistic Validation Performance:  0.5714285714285715\n"
     ]
    }
   ],
   "source": [
    "logreg_l1l2 = LogisticRegression(max_iter=10000, random_state=42)\n",
    "\n",
    "logreg_param = {'penalty':['elasticnet'],\n",
    "                'dual':[False],\n",
    "                'C':[0.001, 0.01, 0.1, 1, 10, 100, 1000], \n",
    "                'fit_intercept':[True,False],\n",
    "                'solver':['saga'],\n",
    "                'class_weight':[None,'balanced'],\n",
    "                'warm_start':[True,False],\n",
    "                'l1_ratio':[0.1,0.2,0.3,0.4,0.5,0.6,0.7,0.8,0.9]}\n",
    "\n",
    "logreg_l1l2_grid = GridSearchCV(logreg_l1l2, logreg_param, cv=10, return_train_score=True, scoring= f1score)\n",
    "logreg_l1l2_grid.fit(X_train,y_train)\n",
    "\n",
    "print('Best Parameters for Logistic Regression: ', logreg_l1l2_grid.best_params_, '\\n')\n",
    "\n",
    "# Mean Cross validation Score\n",
    "print(\"Best Mean Cross-validation score: {}\".format(logreg_l1l2_grid.best_score_), '\\n')\n",
    "\n",
    "# Check test data set performance\n",
    "print(\"Logistic Test Performance: \", logreg_l1l2_grid.score(X_test,y_test))\n",
    "print(\"Logistic Validation Performance: \", logreg_l1l2_grid.score(X_val,y_val))"
   ]
  },
  {
   "cell_type": "markdown",
   "metadata": {},
   "source": [
    "#### Ridge Classifier (L2 Classification)"
   ]
  },
  {
   "cell_type": "code",
   "execution_count": 101,
   "metadata": {},
   "outputs": [
    {
     "name": "stdout",
     "output_type": "stream",
     "text": [
      "Best Parameters:  {'alpha': 5, 'class_weight': None, 'copy_X': True, 'fit_intercept': True, 'normalize': True, 'solver': 'auto'} \n",
      "\n",
      "Best Mean Cross-validation score: 0.7725407925407927 \n",
      "\n",
      "Test Performance:  0.6842105263157895\n",
      "Validation Performance:  0.5294117647058825\n"
     ]
    }
   ],
   "source": [
    "from sklearn.linear_model import RidgeClassifier\n",
    "ridge_clf = RidgeClassifier(random_state = 42)\n",
    "\n",
    "ridge_param = {'alpha':[1,2,5,10,12,15,20,25],\n",
    "               'fit_intercept':[True,False],\n",
    "               'normalize':[True,False],\n",
    "               'copy_X':[True,False],\n",
    "               'class_weight':[None,'balanced'],\n",
    "               'solver':['auto','svd','cholesky','lsqr','sparse_cg','sag','saga']\n",
    "               \n",
    "}\n",
    "\n",
    "ridge_grid = GridSearchCV(ridge_clf, ridge_param, cv=10 ,return_train_score=True ,scoring=f1score)\n",
    "ridge_grid.fit(X_train, y_train)\n",
    "\n",
    "print('Best Parameters: ', ridge_grid.best_params_, '\\n')\n",
    "\n",
    "print(\"Best Mean Cross-validation score: {}\".format(ridge_grid.best_score_), '\\n')\n",
    "\n",
    "print(\"Test Performance: \", ridge_grid.score(X_test,y_test))\n",
    "print(\"Validation Performance: \", ridge_grid.score(X_val,y_val))"
   ]
  },
  {
   "cell_type": "markdown",
   "metadata": {},
   "source": [
    "#### KNN Classifier"
   ]
  },
  {
   "cell_type": "code",
   "execution_count": 68,
   "metadata": {},
   "outputs": [
    {
     "name": "stdout",
     "output_type": "stream",
     "text": [
      "Best Parameters:  {'algorithm': 'brute', 'n_neighbors': 6, 'weights': 'uniform'} \n",
      "\n",
      "Best Mean Cross-validation score: 0.7313675213675215 \n",
      "\n",
      "Test Performance:  0.5185185185185186\n",
      "Validation Performance:  0.5\n"
     ]
    }
   ],
   "source": [
    "from sklearn.neighbors import KNeighborsClassifier\n",
    "knn = KNeighborsClassifier()\n",
    "\n",
    "param_knn = {'n_neighbors': range(5,25), \n",
    "             'algorithm':['auto', 'ball_tree', 'kd_tree', 'brute'],\n",
    "            'weights':['uniform','distance']}\n",
    "\n",
    "grid_knn = GridSearchCV(knn, param_knn, cv=10, return_train_score=True, scoring= f1score)\n",
    "grid_knn.fit(X_train, y_train)\n",
    "\n",
    "print('Best Parameters: ', grid_knn.best_params_, '\\n')\n",
    "\n",
    "print(\"Best Mean Cross-validation score: {}\".format(grid_knn.best_score_), '\\n')\n",
    "\n",
    "print(\"Test Performance: \", grid_knn.score(X_test,y_test))\n",
    "print(\"Validation Performance: \", grid_knn.score(X_val,y_val))"
   ]
  },
  {
   "cell_type": "markdown",
   "metadata": {},
   "source": [
    "#### Decision Tree"
   ]
  },
  {
   "cell_type": "code",
   "execution_count": 72,
   "metadata": {},
   "outputs": [
    {
     "name": "stdout",
     "output_type": "stream",
     "text": [
      "Best Parameters:  {'criterion': 'gini', 'max_depth': 2, 'max_leaf_nodes': 4, 'min_samples_split': 2, 'splitter': 'best'} \n",
      "\n",
      "Best Mean Cross-validation score: 0.7894017094017094 \n",
      "\n",
      "Test Performance:  0.6857142857142856\n",
      "Validation Performance:  0.6060606060606061\n"
     ]
    }
   ],
   "source": [
    "from sklearn.tree import DecisionTreeClassifier\n",
    "dtree = DecisionTreeClassifier(random_state=0)\n",
    "\n",
    "param_dtree = {\"max_depth\": [1,2,3,4,5],\n",
    "           \"min_samples_split\": [2,3,4],\n",
    "           \"max_leaf_nodes\": [2,3,4,5],\n",
    "           \"criterion\":['gini'],\n",
    "           \"splitter\":['best','random']}\n",
    "\n",
    "grid_dtree = GridSearchCV(dtree, param_dtree, cv=10, return_train_score = True, scoring= f1score)\n",
    "grid_dtree.fit(X_train, y_train)\n",
    "\n",
    "print('Best Parameters: ', grid_dtree.best_params_, '\\n')\n",
    "\n",
    "print(\"Best Mean Cross-validation score: {}\".format(grid_dtree.best_score_), '\\n')\n",
    "\n",
    "print(\"Test Performance: \", grid_dtree.score(X_test,y_test))\n",
    "print(\"Validation Performance: \", grid_dtree.score(X_val,y_val))"
   ]
  },
  {
   "cell_type": "markdown",
   "metadata": {},
   "source": [
    "#### Linear Support Vector Classifier"
   ]
  },
  {
   "cell_type": "code",
   "execution_count": 79,
   "metadata": {},
   "outputs": [
    {
     "name": "stdout",
     "output_type": "stream",
     "text": [
      "Best Parameters:  {'C': 0.001, 'loss': 'hinge', 'penalty': 'l2'} \n",
      "\n",
      "Best Mean Cross-validation score: 0.7588578088578088 \n",
      "\n",
      "Test Performance:  0.6666666666666666\n",
      "Validation Performance:  0.5294117647058825\n"
     ]
    }
   ],
   "source": [
    "from sklearn.svm import LinearSVC\n",
    "lsvc = LinearSVC(random_state=42)\n",
    "\n",
    "param = [{'penalty':['l2'],\n",
    "          'C': [0.001, 0.002, 0.0001, 0.008, 0.01, 0.1], \n",
    "          'loss':['hinge','squared_hinge']}]\n",
    "\n",
    "svc_grid = GridSearchCV(lsvc, param, cv=10 ,return_train_score=True ,scoring=f1score)\n",
    "svc_grid.fit(X_train, y_train)\n",
    "\n",
    "print('Best Parameters: ', svc_grid.best_params_, '\\n')\n",
    "\n",
    "print(\"Best Mean Cross-validation score: {}\".format(svc_grid.best_score_), '\\n')\n",
    "\n",
    "print(\"Test Performance: \", svc_grid.score(X_test,y_test))\n",
    "print(\"Validation Performance: \", svc_grid.score(X_val,y_val))"
   ]
  },
  {
   "cell_type": "markdown",
   "metadata": {},
   "source": [
    "#### Kernel Support Vector Classifier"
   ]
  },
  {
   "cell_type": "code",
   "execution_count": 83,
   "metadata": {},
   "outputs": [
    {
     "name": "stdout",
     "output_type": "stream",
     "text": [
      "Best Parameters:  {'degree': 3, 'kernel': 'poly'} \n",
      "\n",
      "Best Mean Cross-validation score: 0.7821756021756021 \n",
      "\n",
      "Test Performance:  0.6470588235294118\n",
      "Validation Performance:  0.5294117647058825\n"
     ]
    }
   ],
   "source": [
    "from sklearn.svm import SVC\n",
    "svc = SVC()\n",
    "param_grid = [{'kernel': ['rbf'],\n",
    "               'C': [0.001, 0.01, 0.1, 1, 10, 100],\n",
    "               'gamma': [0.001, 0.01, 0.1, 1, 10, 100]},\n",
    "              {'kernel': ['linear'],\n",
    "               'C': [0.001, 0.01, 0.1, 1, 10, 100]},\n",
    "              {'kernel': ['poly'],\n",
    "               'degree': [2, 3, 4, 5, 6]},\n",
    "              {'kernel': ['sigmoid'],\n",
    "               'C': [0.001, 0.01, 0.1, 1, 10, 100],\n",
    "               'gamma': [0.001, 0.01, 0.1, 1, 10, 100]}]\n",
    "\n",
    "svm_grid = GridSearchCV(svc, param_grid, cv=10 ,return_train_score=True ,scoring=f1score)\n",
    "svm_grid.fit(X_train, y_train)\n",
    "\n",
    "print('Best Parameters: ', svm_grid.best_params_, '\\n')\n",
    "\n",
    "print(\"Best Mean Cross-validation score: {}\".format(svm_grid.best_score_), '\\n')\n",
    "\n",
    "print(\"Test Performance: \", svm_grid.score(X_test,y_test))\n",
    "print(\"Validation Performance: \", svm_grid.score(X_val,y_val))"
   ]
  },
  {
   "cell_type": "markdown",
   "metadata": {},
   "source": [
    "#### Stochastic Gradient Descent Classifier"
   ]
  },
  {
   "cell_type": "code",
   "execution_count": 26,
   "metadata": {},
   "outputs": [
    {
     "name": "stdout",
     "output_type": "stream",
     "text": [
      "Best Parameters:  {'alpha': 0.05, 'eta0': 0.1, 'fit_intercept': True, 'l1_ratio': 0.1, 'learning_rate': 'constant', 'penalty': 'l2'} \n",
      "\n",
      "Best Mean Cross-validation score: 0.7652680652680653 \n",
      "\n",
      "Test Performance:  0.6842105263157895\n",
      "Validation Performance:  0.5294117647058825\n"
     ]
    }
   ],
   "source": [
    "from sklearn.linear_model import SGDClassifier\n",
    "sgdc = SGDClassifier(random_state=42)\n",
    "sgdc_param = {'penalty': ['l2', 'l1','elasticnet'],\n",
    "              'l1_ratio': [0.1,0.3,0.5,0.7,0.9],\n",
    "                      'alpha': [0.0001, 0.001, 0.01, 0.02, 0.05, 1, 10],\n",
    "                      'fit_intercept': [True, False],\n",
    "                      'learning_rate': ['constant', 'optimal', 'invscaling', 'adaptive'],\n",
    "                      'eta0': [0.001, 0.01,0.05,0.1,0.2,0.3,0.4,0.5]\n",
    "                     }    \n",
    "\n",
    "sgdc_grid = GridSearchCV(sgdc, sgdc_param, cv=10, return_train_score = True, scoring= f1score)\n",
    "sgdc_grid.fit(X_train, y_train)\n",
    "\n",
    "print('Best Parameters: ', sgdc_grid.best_params_, '\\n')\n",
    "\n",
    "print(\"Best Mean Cross-validation score: {}\".format(sgdc_grid.best_score_), '\\n')\n",
    "\n",
    "print(\"Test Performance: \", sgdc_grid.score(X_test,y_test))\n",
    "print(\"Validation Performance: \", sgdc_grid.score(X_val,y_val))"
   ]
  },
  {
   "cell_type": "markdown",
   "metadata": {},
   "source": [
    "#### QDA"
   ]
  },
  {
   "cell_type": "code",
   "execution_count": 18,
   "metadata": {},
   "outputs": [
    {
     "name": "stdout",
     "output_type": "stream",
     "text": [
      "Best Parameters:  {'priors': None, 'reg_param': 0.2, 'tol': 0.0001} \n",
      "\n",
      "Best Mean Cross-validation score: 0.7422843822843823 \n",
      "\n",
      "Test Performance:  0.7222222222222222\n",
      "Validation Performance:  0.5454545454545454\n"
     ]
    }
   ],
   "source": [
    "from sklearn.discriminant_analysis import QuadraticDiscriminantAnalysis\n",
    "param_grid = {\n",
    "    'reg_param': [0.001,0.01,0.1,0.3,0.5,0.7],\n",
    "    'priors': [None],\n",
    "    'reg_param': [0,0.2,0.1],\n",
    "    'tol': [0.0001, 0.001]\n",
    "    }    \n",
    "\n",
    "qda_grid = GridSearchCV(QuadraticDiscriminantAnalysis(), param_grid, scoring=f1score, cv=10,  n_jobs=-1)\n",
    "\n",
    "qda_grid.fit(X_train,y_train)\n",
    "\n",
    "print('Best Parameters: ', qda_grid.best_params_, '\\n')\n",
    "\n",
    "print(\"Best Mean Cross-validation score: {}\".format(qda_grid.best_score_), '\\n')\n",
    "\n",
    "print(\"Test Performance: \", qda_grid.score(X_test,y_test))\n",
    "print(\"Validation Performance: \", qda_grid.score(X_val,y_val))"
   ]
  },
  {
   "cell_type": "markdown",
   "metadata": {},
   "source": [
    "#### LDA"
   ]
  },
  {
   "cell_type": "code",
   "execution_count": 19,
   "metadata": {},
   "outputs": [
    {
     "name": "stdout",
     "output_type": "stream",
     "text": [
      "Best Parameters:  {'shrinkage': 0.3, 'solver': 'lsqr'} \n",
      "\n",
      "Best Mean Cross-validation score: 0.7237878787878788 \n",
      "\n",
      "Test Performance:  0.7096774193548387\n",
      "Validation Performance:  0.5185185185185185\n"
     ]
    }
   ],
   "source": [
    "from sklearn.discriminant_analysis import LinearDiscriminantAnalysis\n",
    "\n",
    "param_grid = {'solver' : ['lsqr', 'eigen'],\n",
    "              'shrinkage': [None, 0.0001, 0.001, 0.01, 0.0005, 0.005, 0.05, 0.1,0.2,0.3,0.4,0.5,0.6,0.7,0.8,0.9,1]}    \n",
    "\n",
    "lda_grid = GridSearchCV(LinearDiscriminantAnalysis(), param_grid, scoring=f1score, cv=10, n_jobs=-1)\n",
    "\n",
    "lda_grid.fit(X_train,y_train)\n",
    "\n",
    "print('Best Parameters: ', lda_grid.best_params_, '\\n')\n",
    "\n",
    "print(\"Best Mean Cross-validation score: {}\".format(lda_grid.best_score_), '\\n')\n",
    "\n",
    "print(\"Test Performance: \", lda_grid.score(X_test,y_test))\n",
    "print(\"Validation Performance: \", lda_grid.score(X_val,y_val))"
   ]
  },
  {
   "cell_type": "markdown",
   "metadata": {},
   "source": [
    "#### Bootstrap Aggregated Decision Tree"
   ]
  },
  {
   "cell_type": "code",
   "execution_count": 122,
   "metadata": {},
   "outputs": [
    {
     "name": "stdout",
     "output_type": "stream",
     "text": [
      "Best Parameters:  {'base_estimator__max_depth': 1, 'max_samples': 0.8, 'n_estimators': 100} \n",
      "\n",
      "Best Mean Cross-validation score: 0.7745153397327311 \n",
      "\n",
      "Test Performance:  0.6857142857142856\n",
      "Validation Performance:  0.6060606060606061\n"
     ]
    }
   ],
   "source": [
    "from sklearn.ensemble import BaggingClassifier\n",
    "bag_dtree1 = BaggingClassifier(base_estimator=DecisionTreeClassifier(), bootstrap=True, random_state=0, oob_score=False)\n",
    "\n",
    "bag_dtree1_param = {\n",
    "                 'base_estimator__max_depth': [1,2,3],\n",
    "                 'base_estimator__max_leaf_nodes': [2,3,4,5],\n",
    "                 'base_estimator__min_samples_split':[2,3,4],\n",
    "                 'base_estimator__criterion':['gini','entropy'],\n",
    "                 'max_samples':  [0.8,1],\n",
    "                 'n_estimators': [50,100,200]}\n",
    "\n",
    "bag_dtree1_grid = GridSearchCV(bag_dtree1, bag_dtree1_param,cv=5, return_train_score=True, scoring=f1score)\n",
    "bag_dtree1_grid.fit(X_train,y_train)\n",
    "\n",
    "print('Best Parameters: ', bag_dtree1_grid.best_params_, '\\n')\n",
    "\n",
    "print(\"Best Mean Cross-validation score: {}\".format(bag_dtree1_grid.best_score_), '\\n')\n",
    "\n",
    "print(\"Test Performance: \", bag_dtree1_grid.score(X_test,y_test))\n",
    "print(\"Validation Performance: \", bag_dtree1_grid.score(X_val,y_val))"
   ]
  },
  {
   "cell_type": "markdown",
   "metadata": {},
   "source": [
    "#### Random Forest Classifier"
   ]
  },
  {
   "cell_type": "code",
   "execution_count": 121,
   "metadata": {},
   "outputs": [
    {
     "name": "stdout",
     "output_type": "stream",
     "text": [
      "Best Parameters:  {'criterion': 'gini', 'max_depth': 3, 'max_features': 'auto', 'min_samples_leaf': 3, 'min_samples_split': 2, 'n_estimators': 100} \n",
      "\n",
      "Best Mean Cross-validation score: 0.7725252525252525 \n",
      "\n",
      "Test Performance:  0.6470588235294118\n",
      "Validation Performance:  0.6451612903225806\n"
     ]
    }
   ],
   "source": [
    "from sklearn.ensemble import RandomForestClassifier\n",
    "rfc =RandomForestClassifier(random_state=42, oob_score=False)\n",
    "rfc_param = { \n",
    "    'n_estimators': [20,50,100],\n",
    "    'max_features': ['auto'],\n",
    "    'max_depth' : [2,3,4],\n",
    "    'criterion' :['gini', 'entropy'],\n",
    "    'min_samples_split':[2,3,4,5],\n",
    "    'min_samples_leaf':[1,2,3]\n",
    "}\n",
    "\n",
    "rfc_grid = GridSearchCV(rfc, rfc_param,cv=10, return_train_score=True, scoring=f1score)\n",
    "rfc_grid.fit(X_train,y_train)\n",
    "\n",
    "print('Best Parameters: ', rfc_grid.best_params_, '\\n')\n",
    "\n",
    "print(\"Best Mean Cross-validation score: {}\".format(rfc_grid.best_score_), '\\n')\n",
    "\n",
    "print(\"Test Performance: \", rfc_grid.score(X_test,y_test))\n",
    "print(\"Validation Performance: \", rfc_grid.score(X_val,y_val))"
   ]
  },
  {
   "cell_type": "code",
   "execution_count": 126,
   "metadata": {},
   "outputs": [
    {
     "name": "stdout",
     "output_type": "stream",
     "text": [
      "Best Parameters:  {'criterion': 'gini', 'max_depth': 2, 'max_features': 'auto', 'min_samples_leaf': 3, 'min_samples_split': 2, 'n_estimators': 200} \n",
      "\n",
      "Best Mean Cross-validation score: 0.7821756021756021 \n",
      "\n",
      "Test Performance:  0.6857142857142856\n",
      "Validation Performance:  0.6060606060606061\n"
     ]
    }
   ],
   "source": [
    "from sklearn.ensemble import RandomForestClassifier\n",
    "rfc =RandomForestClassifier(random_state=42, oob_score=False)\n",
    "rfc_param = { \n",
    "    'n_estimators': [100,200,250,300,350,500],\n",
    "    'max_features': ['auto'],\n",
    "    'max_depth' : [2,3,4],\n",
    "    'criterion' :['gini'],\n",
    "    'min_samples_split':[2,3],\n",
    "    'min_samples_leaf':[1,2,3]\n",
    "}\n",
    "\n",
    "rfc_grid = GridSearchCV(rfc, rfc_param,cv=10, return_train_score=True, scoring=f1score)\n",
    "rfc_grid.fit(X_train,y_train)\n",
    "\n",
    "print('Best Parameters: ', rfc_grid.best_params_, '\\n')\n",
    "\n",
    "print(\"Best Mean Cross-validation score: {}\".format(rfc_grid.best_score_), '\\n')\n",
    "\n",
    "print(\"Test Performance: \", rfc_grid.score(X_test,y_test))\n",
    "print(\"Validation Performance: \", rfc_grid.score(X_val,y_val))"
   ]
  },
  {
   "cell_type": "markdown",
   "metadata": {},
   "source": [
    "#### Extra Trees Classfier"
   ]
  },
  {
   "cell_type": "code",
   "execution_count": 127,
   "metadata": {},
   "outputs": [
    {
     "name": "stdout",
     "output_type": "stream",
     "text": [
      "Best Parameters:  {'criterion': 'gini', 'max_depth': 3, 'max_features': 'auto', 'min_samples_leaf': 3, 'min_samples_split': 2, 'n_estimators': 50} \n",
      "\n",
      "Best Mean Cross-validation score: 0.7915695415695416 \n",
      "\n",
      "Test Performance:  0.6857142857142856\n",
      "Validation Performance:  0.6060606060606061\n"
     ]
    }
   ],
   "source": [
    "from  sklearn.ensemble import ExtraTreesClassifier\n",
    "etc= ExtraTreesClassifier(random_state=42)\n",
    "etc_param = { \n",
    "    'n_estimators': [20, 50, 150, 500],\n",
    "    'max_features': ['auto'],\n",
    "    'max_depth' : [2,3,4,10,12],\n",
    "    'criterion' :['gini','entropy'],\n",
    "    'min_samples_split':[2,3,5,7,9],\n",
    "    'min_samples_leaf':[1,2,3]\n",
    "}\n",
    "etc_grid = GridSearchCV(etc, etc_param, cv=10, return_train_score=True, scoring=f1score)\n",
    "etc_grid.fit(X_train,y_train)\n",
    "\n",
    "print('Best Parameters: ', etc_grid.best_params_, '\\n')\n",
    "\n",
    "print(\"Best Mean Cross-validation score: {}\".format(etc_grid.best_score_), '\\n')\n",
    "\n",
    "print(\"Test Performance: \", etc_grid.score(X_test,y_test))\n",
    "print(\"Validation Performance: \", etc_grid.score(X_val,y_val))"
   ]
  },
  {
   "cell_type": "markdown",
   "metadata": {},
   "source": [
    "#### AdaBoost Classifier"
   ]
  },
  {
   "cell_type": "code",
   "execution_count": 28,
   "metadata": {},
   "outputs": [
    {
     "name": "stdout",
     "output_type": "stream",
     "text": [
      "Best Parameters:  {'n_estimators': 20, 'learning_rate': 1, 'base_estimator__splitter': 'best', 'base_estimator__min_samples_split': 3, 'base_estimator__min_samples_leaf': 2, 'base_estimator__max_depth': 1, 'algorithm': 'SAMME'} \n",
      "\n",
      "Best Mean Cross-validation score: 0.6787878787878787 \n",
      "\n",
      "Test Performance:  0.6857142857142856\n",
      "Validation Performance:  0.625\n"
     ]
    }
   ],
   "source": [
    "from sklearn.tree import DecisionTreeClassifier\n",
    "from sklearn.ensemble import AdaBoostClassifier\n",
    "adc_dtree =AdaBoostClassifier(base_estimator=DecisionTreeClassifier(),random_state=42)\n",
    "adc_dtree_param = {\n",
    "              'base_estimator__splitter' :   ['best','random'],\n",
    "              'base_estimator__max_depth' : [1,2,3],\n",
    "              'base_estimator__min_samples_split':[2,3,4],\n",
    "              'base_estimator__min_samples_leaf':[1,2,3],\n",
    "              'algorithm' : ['SAMME', 'SAMME.R'],\n",
    "              'n_estimators' : [20,50,100,150,300],\n",
    "              'learning_rate' : [0.6, 0.7, 0.8,1],\n",
    "             }\n",
    "\n",
    "adc_dtree_grid = RandomizedSearchCV(adc_dtree, adc_dtree_param, cv=10, return_train_score=True, scoring=f1score)\n",
    "adc_dtree_grid.fit(X_train,y_train)\n",
    "\n",
    "print('Best Parameters: ', adc_dtree_grid.best_params_, '\\n')\n",
    "\n",
    "print(\"Best Mean Cross-validation score: {}\".format(adc_dtree_grid.best_score_), '\\n')\n",
    "\n",
    "print(\"Test Performance: \", adc_dtree_grid.score(X_test,y_test))\n",
    "print(\"Validation Performance: \", adc_dtree_grid.score(X_val,y_val))"
   ]
  },
  {
   "cell_type": "markdown",
   "metadata": {},
   "source": [
    "#### Gradient Boosting Classifier"
   ]
  },
  {
   "cell_type": "code",
   "execution_count": 32,
   "metadata": {},
   "outputs": [
    {
     "name": "stdout",
     "output_type": "stream",
     "text": [
      "Best Parameters:  {'learning_rate': 0.2, 'max_depth': 4, 'min_samples_leaf': 3, 'min_samples_split': 2, 'n_estimators': 20, 'subsample': 1, 'warm_start': True} \n",
      "\n",
      "Best Mean Cross-validation score: 0.7731351981351979 \n",
      "\n",
      "Test Performance:  0.6666666666666667\n",
      "Validation Performance:  0.6206896551724138\n"
     ]
    }
   ],
   "source": [
    "from  sklearn.ensemble import GradientBoostingClassifier\n",
    "gbc= GradientBoostingClassifier(random_state=42)\n",
    "gbc_param = {\n",
    "              'min_samples_split':[2,3,4,5,6],\n",
    "              'subsample':[0.8,1],\n",
    "              'min_samples_leaf':[1,2,3],\n",
    "              'max_depth' : [1,2,3,4],\n",
    "#               'max_features':['auto'],\n",
    "              'n_estimators' : [20,50,100,150],\n",
    "              'learning_rate' : [0.2,0.3,0.7,0.5,0.9],\n",
    "              'warm_start' : [True, False]\n",
    "             }\n",
    "\n",
    "gbc_grid = GridSearchCV(gbc, gbc_param,cv=10, return_train_score=True, scoring=f1score)\n",
    "gbc_grid.fit(X_train,y_train)\n",
    "\n",
    "print('Best Parameters: ', gbc_grid.best_params_, '\\n')\n",
    "\n",
    "print(\"Best Mean Cross-validation score: {}\".format(gbc_grid.best_score_), '\\n')\n",
    "\n",
    "print(\"Test Performance: \", gbc_grid.score(X_test,y_test))\n",
    "print(\"Validation Performance: \", gbc_grid.score(X_val,y_val))"
   ]
  },
  {
   "cell_type": "markdown",
   "metadata": {},
   "source": [
    "#### XGBoost Classifier"
   ]
  },
  {
   "cell_type": "code",
   "execution_count": 18,
   "metadata": {},
   "outputs": [
    {
     "name": "stdout",
     "output_type": "stream",
     "text": [
      "Best Parameters:  {'colsample_bytree': 0.7, 'early_stopping_rounds': 10, 'eta': 0.01, 'gamma': 1, 'learning_rate': 0.1, 'max_depth': 3, 'min_child_weight': 1, 'n_estimators': 100, 'subsample': 1} \n",
      "\n",
      "Best Mean Cross-validation score: 0.7957109557109556 \n",
      "\n",
      "Test Performance:  0.6470588235294118\n",
      "Validation Performance:  0.6451612903225806\n"
     ]
    }
   ],
   "source": [
    "from xgboost import XGBClassifier\n",
    "xgbc= XGBClassifier(random_state=42, n_jobs=-1, objective = 'binary:logistic')\n",
    "xgbc_param = {\n",
    "              'max_depth' : [2,3,4],\n",
    "              'learning_rate':[0.001, 0.01, 0.1],\n",
    "              'early_stopping_rounds':[10,15],\n",
    "              'n_estimators' : [20,50,100,500],\n",
    "              'eta':[0.01,0.025,0.05,0.1],\n",
    "              'gamma' : [0.6,0.8,1],\n",
    "              'min_child_weight' : [1,2,3],\n",
    "              'subsample': [0.8, 1],\n",
    "              'colsample_bytree': [0.7, 0.9, 1]\n",
    "             }\n",
    "\n",
    "\n",
    "xgbc_grid = GridSearchCV(xgbc, xgbc_param, cv=10, return_train_score=True, scoring = f1score)\n",
    "xgbc_grid.fit(X_train,y_train)\n",
    "\n",
    "print('Best Parameters: ', xgbc_grid.best_params_, '\\n')\n",
    "\n",
    "print(\"Best Mean Cross-validation score: {}\".format(xgbc_grid.best_score_), '\\n')\n",
    "\n",
    "print(\"Test Performance: \", xgbc_grid.score(X_test,y_test))\n",
    "print(\"Validation Performance: \", xgbc_grid.score(X_val,y_val))"
   ]
  },
  {
   "cell_type": "markdown",
   "metadata": {},
   "source": [
    "#### CatBoost"
   ]
  },
  {
   "cell_type": "code",
   "execution_count": null,
   "metadata": {},
   "outputs": [],
   "source": [
    "from catboost import CatBoostClassifier\n",
    "from sklearn.model_selection import RandomizedSearchCV\n",
    "cat = CatBoostClassifier()\n",
    "\n",
    "param_grid = {\n",
    "            'depth':[1,2,3,4,7],\n",
    "            'iterations':[250,100,500,1000], \n",
    "            'learning_rate':[0.03,0.001,0.01,0.1,0.2,0.3], \n",
    "            'l2_leaf_reg':[3,1,5,10,100], \n",
    "            'border_count':[32,5,10,20,50,100,200]\n",
    "                      }\n",
    "\n",
    "cat_grid = RandomizedSearchCV(cat, param_grid, cv=10, return_train_score=True, scoring = f1score)\n",
    "cat_grid.fit(X_train,y_train)\n",
    "\n",
    "print('Best Parameters: ', cat_grid.best_params_, '\\n')\n",
    "\n",
    "print(\"Best Mean Cross-validation score: {}\".format(cat_grid.best_score_), '\\n')\n",
    "\n",
    "print(\"Test Performance: \", cat_grid.score(X_test,y_test))\n",
    "print(\"Validation Performance: \", cat_grid.score(X_val,y_val)) "
   ]
  },
  {
   "cell_type": "markdown",
   "metadata": {},
   "source": [
    "Best Parameters:  {'learning_rate': 0.001, 'l2_leaf_reg': 10, 'iterations': 500, 'depth': 1, 'border_count': 100} \n",
    "\n",
    "Best Mean Cross-validation score: 0.778951048951049 \n",
    "\n",
    "Test Performance:  0.6666666666666667\n",
    "Validation Performance:  0.6060606060606061"
   ]
  },
  {
   "cell_type": "markdown",
   "metadata": {},
   "source": [
    "#### LightGBM"
   ]
  },
  {
   "cell_type": "code",
   "execution_count": 30,
   "metadata": {},
   "outputs": [
    {
     "name": "stdout",
     "output_type": "stream",
     "text": [
      "Best Parameters:  {'reg_lambda': 0.4, 'reg_alpha': 0.7, 'num_leaves': 200, 'n_estimators': 30, 'min_split_gain': 0.9, 'max_depth': 3, 'learning_rate': 0.1} \n",
      "\n",
      "Best Mean Cross-validation score: 0.7361305361305363 \n",
      "\n",
      "Test Performance:  0.6666666666666666\n",
      "Validation Performance:  0.5714285714285715\n"
     ]
    }
   ],
   "source": [
    "import lightgbm as lgb\n",
    "param_grid = {'num_leaves': [10,20,30,40,50,60,70,80,90,100,150,200],\n",
    "              'max_depth': [1,2,3,4],\n",
    "              'learning_rate': [0.1,0.2,0.3,0.4,0.5,0.6,0.7,0.8,0.9,1],\n",
    "              'n_estimators': [10, 30, 50, 70, 90, 100, 120, 150, 170, 200], \n",
    "              'min_split_gain' : [0,0.1,0.2,0.3,0.4,0.5,0.6,0.7,0.8,0.9],\n",
    "              'reg_alpha': [0.1, 0.2, 0.3, 0.4, 0.5, 0.6, 0.7, 0.8, 0.9],\n",
    "              'reg_lambda': [0.1, 0.2, 0.3, 0.4, 0.5, 0.6, 0.7, 0.8, 0.9]}\n",
    "\n",
    "mdl = lgb.LGBMClassifier(random_state=42,\n",
    "                         objective = 'binary')\n",
    "\n",
    "lgbm_grid = RandomizedSearchCV(mdl, param_grid, cv=10, return_train_score=True, scoring = f1score)\n",
    "lgbm_grid.fit(X_train,y_train)\n",
    "\n",
    "print('Best Parameters: ', lgbm_grid.best_params_, '\\n')\n",
    "\n",
    "print(\"Best Mean Cross-validation score: {}\".format(lgbm_grid.best_score_), '\\n')\n",
    "\n",
    "print(\"Test Performance: \", lgbm_grid.score(X_test,y_test))\n",
    "print(\"Validation Performance: \", lgbm_grid.score(X_val,y_val)) "
   ]
  },
  {
   "cell_type": "markdown",
   "metadata": {},
   "source": [
    "#### MLP Classifier"
   ]
  },
  {
   "cell_type": "code",
   "execution_count": 25,
   "metadata": {},
   "outputs": [
    {
     "name": "stdout",
     "output_type": "stream",
     "text": [
      "Best Mean Cross-validation score: 0.7783372183372184 \n",
      "\n",
      "Test Performance:  0.6857142857142856\n",
      "Validation Performance:  0.5161290322580645\n"
     ]
    }
   ],
   "source": [
    "from sklearn.neural_network import MLPClassifier\n",
    "mlpc = MLPClassifier(hidden_layer_sizes=(5,5,5), max_iter = 500, random_state = 42)\n",
    "param = {}\n",
    "\n",
    "mlp_grid= GridSearchCV(mlpc, param, cv=10, return_train_score=True, scoring = f1score)\n",
    "mlp_clf = mlp_grid.fit(X_train,y_train)\n",
    "\n",
    "print(\"Best Mean Cross-validation score: {}\".format(mlp_clf.best_score_), '\\n')\n",
    "\n",
    "print(\"Test Performance: \", mlp_clf.score(X_test,y_test))\n",
    "print(\"Validation Performance: \", mlp_clf.score(X_val,y_val)) "
   ]
  },
  {
   "cell_type": "code",
   "execution_count": 24,
   "metadata": {},
   "outputs": [
    {
     "name": "stdout",
     "output_type": "stream",
     "text": [
      "Best Mean Cross-validation score: 0.6977855477855477 \n",
      "\n",
      "Test Performance:  0.7647058823529412\n",
      "Validation Performance:  0.5517241379310345\n"
     ]
    }
   ],
   "source": [
    "from sklearn.neural_network import MLPClassifier\n",
    "mlpc = MLPClassifier(hidden_layer_sizes=(6,3), max_iter = 10000, random_state = 42)\n",
    "param = {}\n",
    "\n",
    "mlp_grid= GridSearchCV(mlpc, param, cv=10, return_train_score=True, scoring = f1score)\n",
    "mlp_clf = mlp_grid.fit(X_train,y_train)\n",
    "\n",
    "print(\"Best Mean Cross-validation score: {}\".format(mlp_clf.best_score_), '\\n')\n",
    "\n",
    "print(\"Test Performance: \", mlp_clf.score(X_test,y_test))\n",
    "print(\"Validation Performance: \", mlp_clf.score(X_val,y_val)) "
   ]
  },
  {
   "cell_type": "markdown",
   "metadata": {},
   "source": [
    "### Results"
   ]
  },
  {
   "cell_type": "markdown",
   "metadata": {},
   "source": [
    "Understanding what data the results are validated on:\n",
    "\n",
    "The Mean Cross Validation Score tells us how well a model has performed with the traning data cross validated with 10 folds - Our training data consists of 77/127 observations.\n",
    "\n",
    "Testing and Validation Set have 25/127 observations."
   ]
  },
  {
   "cell_type": "markdown",
   "metadata": {},
   "source": [
    "#### Best Model Performance"
   ]
  },
  {
   "cell_type": "markdown",
   "metadata": {},
   "source": [
    "- Based on a model that would perform better on newer data the best model in my opnon would be the XGBoost Classifier\n",
    "\n",
    "\n"
   ]
  },
  {
   "cell_type": "markdown",
   "metadata": {},
   "source": [
    "- Best Parameters for the XGB Classifier:  {'colsample_bytree': 0.7, 'early_stopping_rounds': 10, 'eta': 0.01, 'gamma': 1, 'learning_rate': 0.1, 'max_depth': 3, 'min_child_weight': 1, 'n_estimators': 100, 'subsample': 1} \n"
   ]
  },
  {
   "cell_type": "markdown",
   "metadata": {},
   "source": [
    "- Best Mean Cross-validation score: 0.7957109557109556 \n",
    "\n",
    "- Test Performance:  0.6470588235294118\n",
    "- Validation Performance:  0.6451612903225806"
   ]
  },
  {
   "cell_type": "markdown",
   "metadata": {},
   "source": [
    "- Many other models such as the MLP Classifier, QDA, Ridge Classifier, Logistic Regression, AdaBoost gave us really good results on just these particular test and validation sets but may not generalise well on future data"
   ]
  },
  {
   "cell_type": "markdown",
   "metadata": {},
   "source": [
    "- Having access to more data would severely improve performance of many models and be in a position to make better predictions"
   ]
  },
  {
   "cell_type": "markdown",
   "metadata": {},
   "source": [
    "#### Importance of Survey Questions"
   ]
  },
  {
   "cell_type": "markdown",
   "metadata": {},
   "source": [
    "- Ridge or L2 regularised model is often considered to be a good feature selector especially in high dimensional datasets (in contrary to our case) due to its ability to penalise attributes that may not be of much value to the model's prediction.\n",
    "\n",
    "- The ridge classifier has performed moderately well as comapred to most other models and observing it's coefficient values will give us a good idea of what features are relevant."
   ]
  },
  {
   "cell_type": "code",
   "execution_count": 21,
   "metadata": {},
   "outputs": [
    {
     "name": "stdout",
     "output_type": "stream",
     "text": [
      "Coefficient of each feature: [[0.10325073 0.01079386 0.15283796 0.01372126 0.14921793 0.22424348]]\n"
     ]
    }
   ],
   "source": [
    "# Using Logistic regression with l2 - ridge penalty\n",
    "logreg_l2 = LogisticRegression(C = 0.1, dual = True, fit_intercept = True, penalty = 'l2', solver = 'liblinear', \n",
    "                               max_iter=10000, random_state=42)\n",
    "logreg_l2.fit(X_train,y_train)\n",
    "\n",
    "# Identifying which columns have been given preference while making the predictions by checking coefficient values\n",
    "print('Coefficient of each feature:', logreg_l2.coef_)\n",
    "\n",
    "# As we can see from the coefficient values below the order of preference given to the variables in the prediction are:\n",
    "# X6 > X3 > X5 > X1 > X4 > X2"
   ]
  },
  {
   "cell_type": "code",
   "execution_count": 29,
   "metadata": {},
   "outputs": [
    {
     "name": "stdout",
     "output_type": "stream",
     "text": [
      "Coefficient of each feature: [[0.20329293 0.0018647  0.1484375  0.01666328 0.10015983 0.0848951 ]]\n"
     ]
    }
   ],
   "source": [
    "ridge_clf = RidgeClassifier(alpha = 5, copy_X = True, fit_intercept = True, solver = 'auto', \n",
    "                               normalize = True, class_weight = None, random_state=42)\n",
    "ridge_clf.fit(X_train,y_train)\n",
    "\n",
    "# Identifying which columns have been given preference while making the predictions by checking coefficient values\n",
    "print('Coefficient of each feature:', ridge_clf.coef_)\n",
    "\n",
    "# As we can see from the coefficient values below the order of preference given to the variables in the prediction are:\n",
    "# X1 > X3 > X5 > X6 > X4 > X2"
   ]
  },
  {
   "cell_type": "markdown",
   "metadata": {},
   "source": [
    "- Based on the coefficient values of the above models it is evident that X2 (contents of my order was as I expected) and X4 (I paid a good price for my order) are both questions that added little to no value in predicting if a customer was happy and are potentially a good choice for questions that could be removed in following surveys. "
   ]
  }
 ],
 "metadata": {
  "kernelspec": {
   "display_name": "Python 3",
   "language": "python",
   "name": "python3"
  },
  "language_info": {
   "codemirror_mode": {
    "name": "ipython",
    "version": 3
   },
   "file_extension": ".py",
   "mimetype": "text/x-python",
   "name": "python",
   "nbconvert_exporter": "python",
   "pygments_lexer": "ipython3",
   "version": "3.7.6"
  },
  "toc": {
   "base_numbering": 1,
   "nav_menu": {},
   "number_sections": true,
   "sideBar": true,
   "skip_h1_title": false,
   "title_cell": "Table of Contents",
   "title_sidebar": "Contents",
   "toc_cell": false,
   "toc_position": {
    "height": "calc(100% - 180px)",
    "left": "10px",
    "top": "150px",
    "width": "341.319px"
   },
   "toc_section_display": true,
   "toc_window_display": true
  }
 },
 "nbformat": 4,
 "nbformat_minor": 4
}
